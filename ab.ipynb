{
 "cells": [
  {
   "cell_type": "code",
   "execution_count": 54,
   "metadata": {},
   "outputs": [],
   "source": [
    "from scipy.stats import beta\n",
    "from scipy.special import betaln\n",
    "import scipy.stats\n",
    "import numpy \n",
    "import pandas as pd\n",
    "import scipy.stats as scs"
   ]
  },
  {
   "cell_type": "code",
   "execution_count": 3,
   "metadata": {},
   "outputs": [],
   "source": [
    "users_A= 8145\n",
    "conversions_A= 856\n",
    "users_B = 8168\n",
    "conversions_B= 936"
   ]
  },
  {
   "cell_type": "markdown",
   "metadata": {},
   "source": [
    "### Modelo Bayesiano"
   ]
  },
  {
   "cell_type": "code",
   "execution_count": 7,
   "metadata": {},
   "outputs": [
    {
     "name": "stdout",
     "output_type": "stream",
     "text": [
      "Probability that B beats A is: 97.24%\n"
     ]
    }
   ],
   "source": [
    "\n",
    "def prob_B_beats_A(alpha_A, beta_A, alpha_B, beta_B):\n",
    "    total = 0\n",
    "    for i in range(0,alpha_B-1):\n",
    "        total += np.exp(betaln(alpha_A + i, beta_B + beta_A) - \\\n",
    "            np.log(beta_B + i) - betaln(1+i, beta_B) - betaln(alpha_A, beta_A))\n",
    "    return total\n",
    "  \n",
    "alpha_A = 1 + (conversions_A)\n",
    "beta_A = 1 + (users_A - conversions_A)\n",
    "alpha_B = 1 + (conversions_B)\n",
    "beta_B = 1 + (users_B - conversions_B)\n",
    "  \n",
    "p_test_is_winner = prob_B_beats_A(alpha_A, beta_A, alpha_B, beta_B)\n",
    "print(\"Probability that B beats A is: {:2.2f}%\".format(100*p_test_is_winner))"
   ]
  },
  {
   "cell_type": "markdown",
   "metadata": {},
   "source": [
    "### Chi quadrado , student t test"
   ]
  },
  {
   "cell_type": "code",
   "execution_count": 24,
   "metadata": {},
   "outputs": [],
   "source": [
    "a_conversions= 856\n",
    "a_no_conversions= 8145- a_conversions\n",
    "\n",
    "b_conversions= 936\n",
    "b_no_conversions= 8145- a_conversions\n"
   ]
  },
  {
   "cell_type": "code",
   "execution_count": 25,
   "metadata": {},
   "outputs": [
    {
     "name": "stdout",
     "output_type": "stream",
     "text": [
      "X2: 2.8751\n",
      "p-value: 0.0900\n"
     ]
    }
   ],
   "source": [
    "data= numpy.array([[a_no_conversions,a_conversions],[b_no_conversions,b_conversions ]])\n",
    "\n",
    "chi_square, p_value = scipy.stats.chi2_contingency(data)[:2]\n",
    "\n",
    "print('X2: %.4f' % chi_square)\n",
    "\n",
    "print('p-value: %.4f' % p_value)"
   ]
  },
  {
   "cell_type": "markdown",
   "metadata": {},
   "source": [
    "--------------\n"
   ]
  },
  {
   "cell_type": "code",
   "execution_count": 42,
   "metadata": {},
   "outputs": [
    {
     "ename": "TypeError",
     "evalue": "'type' object is not subscriptable",
     "output_type": "error",
     "traceback": [
      "\u001b[1;31m---------------------------------------------------------------------------\u001b[0m",
      "\u001b[1;31mTypeError\u001b[0m                                 Traceback (most recent call last)",
      "\u001b[1;32m~\\AppData\\Local\\Temp/ipykernel_9712/2193018743.py\u001b[0m in \u001b[0;36m<module>\u001b[1;34m\u001b[0m\n\u001b[0;32m      1\u001b[0m \u001b[0mdf\u001b[0m\u001b[1;33m=\u001b[0m \u001b[0mpd\u001b[0m\u001b[1;33m.\u001b[0m\u001b[0mDataFrame\u001b[0m\u001b[1;33m(\u001b[0m\u001b[1;33m)\u001b[0m\u001b[1;33m\u001b[0m\u001b[1;33m\u001b[0m\u001b[0m\n\u001b[1;32m----> 2\u001b[1;33m \u001b[0mgroup\u001b[0m\u001b[1;33m=\u001b[0m \u001b[0mint\u001b[0m\u001b[1;33m[\u001b[0m\u001b[1;34m'A'\u001b[0m\u001b[1;33m,\u001b[0m \u001b[1;34m'B'\u001b[0m\u001b[1;33m]\u001b[0m\u001b[1;33m\u001b[0m\u001b[1;33m\u001b[0m\u001b[0m\n\u001b[0m\u001b[0;32m      3\u001b[0m \u001b[0mconverted\u001b[0m\u001b[1;33m=\u001b[0m \u001b[1;33m[\u001b[0m\u001b[1;36m856\u001b[0m\u001b[1;33m,\u001b[0m\u001b[1;36m936\u001b[0m\u001b[1;33m]\u001b[0m\u001b[1;33m\u001b[0m\u001b[1;33m\u001b[0m\u001b[0m\n\u001b[0;32m      4\u001b[0m \u001b[0mtotal\u001b[0m\u001b[1;33m=\u001b[0m \u001b[1;33m[\u001b[0m\u001b[1;36m8145\u001b[0m\u001b[1;33m,\u001b[0m\u001b[1;36m8168\u001b[0m\u001b[1;33m]\u001b[0m\u001b[1;33m\u001b[0m\u001b[1;33m\u001b[0m\u001b[0m\n\u001b[0;32m      5\u001b[0m \u001b[0mrate\u001b[0m\u001b[1;33m=\u001b[0m\u001b[1;33m[\u001b[0m\u001b[1;36m0.105\u001b[0m\u001b[1;33m,\u001b[0m\u001b[1;36m0.115\u001b[0m\u001b[1;33m]\u001b[0m\u001b[1;33m\u001b[0m\u001b[1;33m\u001b[0m\u001b[0m\n",
      "\u001b[1;31mTypeError\u001b[0m: 'type' object is not subscriptable"
     ]
    }
   ],
   "source": [
    "df= pd.DataFrame()\n",
    "group= ['A', 'B']\n",
    "converted= [856,936]\n",
    "total= [8145,8168]\n",
    "rate=[0.105,0.115]\n"
   ]
  },
  {
   "cell_type": "code",
   "execution_count": 51,
   "metadata": {},
   "outputs": [
    {
     "data": {
      "text/html": [
       "<div>\n",
       "<style scoped>\n",
       "    .dataframe tbody tr th:only-of-type {\n",
       "        vertical-align: middle;\n",
       "    }\n",
       "\n",
       "    .dataframe tbody tr th {\n",
       "        vertical-align: top;\n",
       "    }\n",
       "\n",
       "    .dataframe thead th {\n",
       "        text-align: right;\n",
       "    }\n",
       "</style>\n",
       "<table border=\"1\" class=\"dataframe\">\n",
       "  <thead>\n",
       "    <tr style=\"text-align: right;\">\n",
       "      <th></th>\n",
       "      <th>converted</th>\n",
       "      <th>total</th>\n",
       "      <th>rate</th>\n",
       "    </tr>\n",
       "    <tr>\n",
       "      <th>group</th>\n",
       "      <th></th>\n",
       "      <th></th>\n",
       "      <th></th>\n",
       "    </tr>\n",
       "  </thead>\n",
       "  <tbody>\n",
       "    <tr>\n",
       "      <th>A</th>\n",
       "      <td>856</td>\n",
       "      <td>8145</td>\n",
       "      <td>0.105</td>\n",
       "    </tr>\n",
       "    <tr>\n",
       "      <th>B</th>\n",
       "      <td>936</td>\n",
       "      <td>8168</td>\n",
       "      <td>0.115</td>\n",
       "    </tr>\n",
       "  </tbody>\n",
       "</table>\n",
       "</div>"
      ],
      "text/plain": [
       "       converted  total   rate\n",
       "group                         \n",
       "A            856   8145  0.105\n",
       "B            936   8168  0.115"
      ]
     },
     "execution_count": 51,
     "metadata": {},
     "output_type": "execute_result"
    }
   ],
   "source": [
    "df['group']=group\n",
    "df['converted']=converted\n",
    "df['total']=total\n",
    "df['rate']= rate\n",
    "df.set_index('group')"
   ]
  },
  {
   "cell_type": "code",
   "execution_count": 52,
   "metadata": {},
   "outputs": [],
   "source": [
    "# get values for all the variables\n",
    "B_converted= 936\n",
    "A_converted =856\n",
    "B_total = 8168\n",
    "A_total = 8145\n",
    "A_cr = 0.105\n",
    "B_cr = 0.115"
   ]
  },
  {
   "cell_type": "code",
   "execution_count": 55,
   "metadata": {},
   "outputs": [
    {
     "data": {
      "text/plain": [
       "Text(0, 0.5, 'probability')"
      ]
     },
     "execution_count": 55,
     "metadata": {},
     "output_type": "execute_result"
    },
    {
     "data": {
      "image/png": "[encoded data removed]",
      "text/plain": [
       "<Figure size 864x432 with 1 Axes>"
      ]
     },
     "metadata": {
      "needs_background": "light"
     },
     "output_type": "display_data"
    }
   ],
   "source": [
    "# plot using variable values\n",
    "fig, ax = plt.subplots(figsize=(12,6))\n",
    "x = np.linspace(A_converted-49, A_converted+50, 100)\n",
    "y = scs.binom(A_total, A_cr).pmf(x)\n",
    "ax.bar(x, y, alpha=0.5)\n",
    "ax.axvline(x=B_cr * A_total, c='red', alpha=0.75, linestyle='--')\n",
    "plt.xlabel('converted')\n",
    "plt.ylabel('probability')"
   ]
  },
  {
   "cell_type": "markdown",
   "metadata": {},
   "source": [
    "La distribución para el grupo de control se muestra en azul y el resultado del grupo de prueba se indica con la línea discontinua roja. Podemos ver que la probabilidad de obtener el resultado del grupo de prueba era muy baja. \n",
    "\n",
    "Sin embargo, la probabilidad no transmite el nivel de confianza de los resultados.\n",
    "\n",
    "No tiene en cuenta el tamaño de la muestra de nuestro grupo de prueba.\n",
    "\n",
    "Intuitivamente, nos sentiríamos más seguros de nuestros resultados a medida que el tamaño de la muestra fuera mayor. \n",
    "\n",
    "Continuemos y tracemos los resultados del grupo de prueba como una distribución binomial y comparemos las distribuciones entre sí."
   ]
  },
  {
   "cell_type": "markdown",
   "metadata": {},
   "source": [
    "### Binomial Distribution"
   ]
  },
  {
   "cell_type": "code",
   "execution_count": 56,
   "metadata": {},
   "outputs": [
    {
     "data": {
      "text/plain": [
       "Text(0, 0.5, 'probability')"
      ]
     },
     "execution_count": 56,
     "metadata": {},
     "output_type": "execute_result"
    },
    {
     "data": {
      "image/png": "[encoded data removed]",
      "text/plain": [
       "<Figure size 864x432 with 1 Axes>"
      ]
     },
     "metadata": {
      "needs_background": "light"
     },
     "output_type": "display_data"
    }
   ],
   "source": [
    "fig, ax = plt.subplots(figsize=(12,6))\n",
    "xA = np.linspace(A_converted-49, A_converted+50, 100)\n",
    "yA = scs.binom(A_total, A_cr).pmf(xA)\n",
    "ax.bar(xA, yA, alpha=0.5)\n",
    "xB = np.linspace(B_converted-49, B_converted+50, 100)\n",
    "yB = scs.binom(B_total, B_cr).pmf(xB)\n",
    "ax.bar(xB, yB, alpha=0.5)\n",
    "plt.xlabel('converted')\n",
    "plt.ylabel('probability')"
   ]
  },
  {
   "cell_type": "markdown",
   "metadata": {},
   "source": [
    "Podemos ver que el grupo de prueba (naranja) convirtió más usuarios que el grupo de control (azul).\n",
    "\n",
    "También podemos ver que el pico de los resultados del grupo de prueba es inferior al del grupo de control.\n",
    "\n",
    "¿Cómo interpretamos la diferencia en la probabilidad de pico? \n",
    "\n",
    "Deberíamos centrarnos en la tasa de conversión para tener una comparación de manzanas con manzanas.\n",
    "\n",
    "Para calcularlo, tenemos que estandarizar los datos y comparar la probabilidad de éxito, p, de cada grupo."
   ]
  },
  {
   "cell_type": "markdown",
   "metadata": {},
   "source": [
    "### Bernoulli Distribution and the Central Limit Theorem"
   ]
  },
  {
   "cell_type": "markdown",
   "metadata": {},
   "source": [
    "Tomamos la media y la varianza según la distribución de Bernoulli (en la vida real sería la normal o cualquier otra).\n",
    "\n",
    "Según el teorema del límite central, calculando muchas medias muestrales podemos aproximarnos a la verdadera media de la población,\n",
    " 𝜇, de la que se tomaron los datos del grupo de control. \n",
    " \n",
    "La distribución de las medias muestrales, p, se distribuirá normalmente alrededor de la media real con una desviación estándar igual al \n",
    "error estándar de la media."
   ]
  },
  {
   "cell_type": "markdown",
   "metadata": {},
   "source": [
    "Lo mismo puede hacerse para el grupo de prueba. Así, tendremos dos distribuciones normales"
   ]
  },
  {
   "cell_type": "code",
   "execution_count": 57,
   "metadata": {},
   "outputs": [
    {
     "data": {
      "text/plain": [
       "Text(0, 0.5, 'PDF')"
      ]
     },
     "execution_count": 57,
     "metadata": {},
     "output_type": "execute_result"
    },
    {
     "data": {
      "image/png": "[encoded data removed]",
      "text/plain": [
       "<Figure size 864x432 with 1 Axes>"
      ]
     },
     "metadata": {
      "needs_background": "light"
     },
     "output_type": "display_data"
    }
   ],
   "source": [
    "# standard error of the mean for both groups\n",
    "SE_A = np.sqrt(A_cr * (1-A_cr)) / np.sqrt(A_total)\n",
    "SE_B = np.sqrt(B_cr * (1-B_cr)) / np.sqrt(B_total)\n",
    "\n",
    "# plot the null and alternative hypothesis\n",
    "fig, ax = plt.subplots(figsize=(12,6))\n",
    "\n",
    "xA = np.linspace(0, .2, 100)\n",
    "\n",
    "yA = scs.norm(A_cr, SE_A).pdf(x)\n",
    "ax.plot(xA, yA)\n",
    "ax.axvline(x=A_cr, c='blue', alpha=0.5, linestyle='--')\n",
    "\n",
    "xB = np.linspace(0, .2, 100)\n",
    "yB = scs.norm(B_cr, SE_B).pdf(x)\n",
    "ax.plot(xB, yB)\n",
    "ax.axvline(x=B_cr, c='red', alpha=0.5, linestyle='--')\n",
    "\n",
    "plt.xlabel('Converted Proportion')\n",
    "plt.ylabel('PDF')"
   ]
  },
  {
   "cell_type": "markdown",
   "metadata": {},
   "source": [
    "Las líneas discontinuas representan el índice de conversión medio de cada grupo. La distancia entre la línea discontinua roja y la línea discontinua azul es igual a la diferencia media entre el grupo de control y el de prueba. d_hat es la distribución de la diferencia entre las variables aleatorias de los dos grupos.\n",
    "\n",
    "Para comparar la hipótesis nula frente a la alternativa necesitaremos utilizar una ecuación para el error estándar agrupado."
   ]
  },
  {
   "cell_type": "code",
   "execution_count": 58,
   "metadata": {},
   "outputs": [],
   "source": [
    "def pooled_prob(N_A, N_B, X_A, X_B):\n",
    "    \"\"\"Devuelve la probabilidad conjunta de dos muestras\"\"\"\n",
    "    return (X_A + X_B) / (N_A + N_B)"
   ]
  },
  {
   "cell_type": "code",
   "execution_count": 60,
   "metadata": {},
   "outputs": [],
   "source": [
    "def pooled_SE(N_A, N_B, X_A, X_B):\n",
    "    \"\"\"Devuelve el error estándar agrupado para dos muestras\"\"\"\n",
    "    p_hat = pooled_prob(N_A, N_B, X_A, X_B)\n",
    "    SE = np.sqrt(p_hat * (1 - p_hat) * (1 / N_A + 1 / N_B))\n",
    "    return SE"
   ]
  },
  {
   "cell_type": "code",
   "execution_count": 61,
   "metadata": {},
   "outputs": [],
   "source": [
    "def confidence_interval(sample_mean=0, sample_std=1, sample_size=1,\n",
    "                        sig_level=0.05):\n",
    "    \"\"\"Devuelve el intervalo de confianza como una tupla\"\"\"\n",
    "    z = z_val(sig_level)\n",
    "\n",
    "    left = sample_mean - z * sample_std / np.sqrt(sample_size)\n",
    "    right = sample_mean + z * sample_std / np.sqrt(sample_size)\n",
    "\n",
    "    return (left, right)"
   ]
  },
  {
   "cell_type": "code",
   "execution_count": 62,
   "metadata": {},
   "outputs": [],
   "source": [
    "def z_val(sig_level=0.05, two_tailed=True):\n",
    "    \"\"\"Devuelve el valor z para un nivel de significación determinado\"\"\"\n",
    "    z_dist = scs.norm()\n",
    "    if two_tailed:\n",
    "        sig_level = sig_level/2\n",
    "        area = 1 - sig_level\n",
    "    else:\n",
    "        area = 1 - sig_level\n",
    "\n",
    "    z = z_dist.ppf(area)\n",
    "\n",
    "    return z"
   ]
  },
  {
   "cell_type": "code",
   "execution_count": 63,
   "metadata": {},
   "outputs": [],
   "source": [
    "def ab_dist(stderr, d_hat=0, group_type='control'):\n",
    "    \"\"\"Devuelve un objeto de distribución en función del tipo de grupo\n",
    "    Ejemplos:\n",
    "    Parámetros:\n",
    "        stderr (float): error estándar agrupado de dos muestras independientes\n",
    "        d_hat (float): la diferencia media entre dos muestras independientes\n",
    "        tipo_de_grupo (cadena): Se admiten los tipos 'control' y 'test'.\n",
    "    Devuelve:\n",
    "        dist (objeto de distribución scipy.stats)\n",
    "    \"\"\"\n",
    "    if group_type == 'control':\n",
    "        sample_mean = 0\n",
    "\n",
    "    elif group_type == 'test':\n",
    "        sample_mean = d_hat\n",
    "\n",
    "  # crea una distribución normal que depende de la media y la desviación estándar\n",
    "    dist = scs.norm(sample_mean, stderr)\n",
    "    return dist"
   ]
  },
  {
   "cell_type": "code",
   "execution_count": 65,
   "metadata": {},
   "outputs": [],
   "source": [
    "def min_sample_size(bcr, mde, power=0.8, sig_level=0.05):\n",
    "    \"\"\"Devuelve el tamaño mínimo de la muestra para establecer una prueba de división\n",
    "    Argumentos:\n",
    "        bcr (float): probabilidad de éxito para el control, a veces\n",
    "        se denomina tasa de conversión de referencia\n",
    "        mde (float): cambio mínimo en la medición entre el grupo de control\n",
    "        entre el grupo de control y el grupo de prueba si la hipótesis alternativa es verdadera\n",
    "        se denomina a veces efecto mínimo detectable\n",
    "        potencia (flotante): probabilidad de rechazar la hipótesis nula cuando la\n",
    "        hipótesis nula es falsa, normalmente 0,8\n",
    "        Nivel sig (flotante): nivel de significación, a menudo denominado alfa,\n",
    "        normalmente 0,05\n",
    "    Devuelve:\n",
    "        min_N: tamaño mínimo de la muestra (float)\n",
    "    Referencias:\n",
    "        Conferencia de Stanford sobre el tamaño de las muestras\n",
    "        http://statweb.stanford.edu/~susan/courses/s141/hopower.pdf\n",
    "    \"\"\"\n",
    "   # distribución normal estándar para determinar los valores z\n",
    "    standard_norm = scs.norm(0, 1)\n",
    "\n",
    "    # encontrar Z_beta de la potencia deseada\n",
    "    Z_beta = standard_norm.ppf(power)\n",
    "\n",
    "    # encontrar Z_alpha\n",
    "    Z_alpha = standard_norm.ppf(1-sig_level/2)\n",
    "\n",
    "    # media de las probabilidades de ambos grupos\n",
    "    pooled_prob = (bcr + bcr+mde) / 2\n",
    "\n",
    "    min_N = (2 * pooled_prob * (1 - pooled_prob) * (Z_beta + Z_alpha)**2\n",
    "             / mde**2)\n",
    "\n",
    "    return min_N"
   ]
  },
  {
   "cell_type": "code",
   "execution_count": 66,
   "metadata": {},
   "outputs": [],
   "source": [
    "def p_val(N_A, N_B, p_A, p_B):\n",
    "    \"\"\"Devuelve el valor p de una prueba A/B\"\"\"\n",
    "    return scs.binom(N_A, p_A).pmf(p_B * N_B)"
   ]
  },
  {
   "cell_type": "markdown",
   "metadata": {},
   "source": [
    "Comparar la hipótesis nula con la hipótesis alternativa\n",
    "\n",
    "La hipótesis nula es la posición de que el cambio en el diseño realizado para el grupo de prueba no produciría ningún cambio en la tasa de conversión. (Distribución en torno a 0, error agrupado)\n",
    "\n",
    "La hipótesis alternativa es la posición contraria, según la cual el cambio de diseño realizado para el grupo de prueba daría lugar a una mejora (o reducción) del índice de conversión. (Distribución d_dat,Error agrupado)"
   ]
  },
  {
   "cell_type": "code",
   "execution_count": 67,
   "metadata": {},
   "outputs": [],
   "source": [
    "def plot_norm_dist(ax, mu, std, with_CI=False, sig_level=0.05, label=None):\n",
    "    \"\"\"Añade una distribución normal a los ejes proporcionados\n",
    "    Ejemplo:\n",
    "        plot_norm_dist(ax, 0, 1) # traza una distribución normal estándar\n",
    "    Parámetros:\n",
    "        ax (ejes matplotlib)\n",
    "        mu (float): media de la distribución normal\n",
    "        std (float): desviación estándar de la distribución normal\n",
    "    Devuelve:\n",
    "        Ninguno: la función añade un gráfico al objeto ejes proporcionado\n",
    "    \"\"\"\n",
    "    x = np.linspace(mu - 12 * std, mu + 12 * std, 1000)\n",
    "    y = scs.norm(mu, std).pdf(x)\n",
    "    ax.plot(x, y, label=label)\n",
    "\n",
    "    if with_CI:\n",
    "        plot_CI(ax, mu, std, sig_level=sig_level)"
   ]
  },
  {
   "cell_type": "code",
   "execution_count": 68,
   "metadata": {},
   "outputs": [],
   "source": [
    "def plot_binom_dist(ax, n, p, label=None):\n",
    "    \"\"\"Añade una distribución binomial a los ejes proporcionados\n",
    "    Ejemplo:\n",
    "        plot_binom_dist(ax, 0, 1) # traza una distribución normal estándar\n",
    "    Parámetros:\n",
    "        ax (ejes matplotlib)\n",
    "        mu (float): media de la distribución normal\n",
    "        sig (float): desviación estándar de la distribución normal\n",
    "    Devuelve:\n",
    "        Ninguno: la función añade un gráfico al objeto ejes proporcionado\n",
    "    \"\"\"\n",
    "    x = np.linspace(0, n, n+1)\n",
    "    y = scs.binom(n, p).pmf(x)\n",
    "    ax.plot(x, y, label=label)"
   ]
  },
  {
   "cell_type": "code",
   "execution_count": 69,
   "metadata": {},
   "outputs": [],
   "source": [
    "def plot_CI(ax, mu, s, sig_level=0.05, color='grey'):\n",
    "    \"\"\"Calcula el intervalo de confianza de dos colas y añade el gráfico a\n",
    "    un objeto de ejes.\n",
    "    Ejemplo:\n",
    "        plot_CI(ax, mu=0, s=stderr, sig_level=0.05)\n",
    "    Parámetros:\n",
    "        ax (matplotlib axes)\n",
    "        mu (float): media\n",
    "        s (float): desviación estándar\n",
    "    Devuelve:\n",
    "        Ninguno: la función añade un gráfico al objeto ejes proporcionado\n",
    "    \"\"\"\n",
    "    left, right = confidence_interval(sample_mean=mu, sample_std=s,\n",
    "                                      sig_level=sig_level)\n",
    "    ax.axvline(left, c=color, linestyle='--', alpha=0.5)\n",
    "    ax.axvline(right, c=color, linestyle='--', alpha=0.5)"
   ]
  },
  {
   "cell_type": "code",
   "execution_count": 70,
   "metadata": {},
   "outputs": [],
   "source": [
    "def plot_null(ax, stderr):\n",
    "    \"\"\"Traza la distribución de la hipótesis nula en la que si no hay un cambio real\n",
    "    la distribución de las diferencias entre los grupos de prueba y de control\n",
    "    se distribuirá normalmente.\n",
    "    También se traza la banda de confianza.\n",
    "    Ejemplo:\n",
    "        plot_null(ax, stderr)\n",
    "    Parámetros:\n",
    "        ax (ejes de matplotlib)\n",
    "        stderr (float): el error estándar agrupado del grupo de control y de prueba\n",
    "    Devuelve:\n",
    "        None: la función añade un gráfico al objeto axes proporcionado\n",
    "    \"\"\"\n",
    "    plot_norm_dist(ax, 0, stderr, label=\"Null\")\n",
    "    plot_CI(ax, mu=0, s=stderr, sig_level=0.05)"
   ]
  },
  {
   "cell_type": "code",
   "execution_count": 71,
   "metadata": {},
   "outputs": [],
   "source": [
    "def plot_alt(ax, stderr, d_hat):\n",
    "    \"\"\"Traza la distribución de la hipótesis alternativa en la que si hay un verdadero\n",
    "    cambio, la distribución de las diferencias entre el grupo de prueba y el de\n",
    "    grupos de control se distribuirá normalmente y se centrará en d_hat\n",
    "    También se traza la banda de confianza.\n",
    "    Ejemplo:\n",
    "        plot_alt(ax, stderr, d_hat=0.025)\n",
    "    Parámetros:\n",
    "        ax (ejes de matplotlib)\n",
    "        stderr (float): el error estándar agrupado del grupo de control y de prueba\n",
    "    Devuelve:\n",
    "        Ninguno: la función añade un gráfico al objeto axes proporcionado\n",
    "    \"\"\"\n",
    "    plot_norm_dist(ax, d_hat, stderr, label=\"Alternative\")"
   ]
  },
  {
   "cell_type": "code",
   "execution_count": 72,
   "metadata": {},
   "outputs": [],
   "source": [
    "def abplot(N_A, N_B, bcr, d_hat, sig_level=0.05, show_power=False,\n",
    "           show_alpha=False, show_beta=False, show_p_value=False,\n",
    "           show_legend=True):\n",
    "    \"\"\"Ejemplo de gráfico de la prueba AB\n",
    "    Ejemplo:\n",
    "        abplot(n=4000, bcr=0.11, d_hat=0.03)\n",
    "    Parámetros:\n",
    "        n (int): tamaño total de la muestra para los grupos de control y de prueba (N_A + N_B)\n",
    "        bcr (float): tasa de conversión base; tasa de conversión del control\n",
    "        d_hat: diferencia en el índice de conversión entre los grupos de control y de prueba\n",
    "            de prueba, a veces denominada **efecto mínimo detectable** al calcular el\n",
    "            al calcular el tamaño mínimo de la muestra, o **elevación** cuando se habla de\n",
    "            mejora positiva deseada al lanzar un cambio.\n",
    "    Devuelve:\n",
    "        Ninguno: la función traza una prueba AB como dos distribuciones para\n",
    "        para su visualización.\n",
    "    \"\"\"\n",
    "    # create a plot object\n",
    "    fig, ax = plt.subplots(figsize=(12, 6))\n",
    "\n",
    "    # define parameters to find pooled standard error\n",
    "    X_A = bcr * N_A\n",
    "    X_B = (bcr + d_hat) * N_B\n",
    "    stderr = pooled_SE(N_A, N_B, X_A, X_B)\n",
    "\n",
    "    # plot the distribution of the null and alternative hypothesis\n",
    "    plot_null(ax, stderr)\n",
    "    plot_alt(ax, stderr, d_hat)\n",
    "\n",
    "    # set extent of plot area\n",
    "    ax.set_xlim(-8 * stderr, 8 * stderr)\n",
    "\n",
    "    # shade areas according to user input\n",
    "    if show_power:\n",
    "        show_area(ax, d_hat, stderr, sig_level, area_type='power')\n",
    "    if show_alpha:\n",
    "        show_area(ax, d_hat, stderr, sig_level, area_type='alpha')\n",
    "    if show_beta:\n",
    "        show_area(ax, d_hat, stderr, sig_level, area_type='beta')\n",
    "\n",
    "    # show p_value based on the binomial distributions for the two groups\n",
    "    if show_p_value:\n",
    "        null = ab_dist(stderr, 'control')\n",
    "        p_value = p_val(N_A, N_B, bcr, bcr+d_hat)\n",
    "        ax.text(3 * stderr, null.pdf(0),\n",
    "                'p-value = {0:.3f}'.format(p_value),\n",
    "                fontsize=12, ha='left')\n",
    "\n",
    "    # option to show legend\n",
    "    if show_legend:\n",
    "        plt.legend()\n",
    "\n",
    "    plt.xlabel('d')\n",
    "    plt.ylabel('PDF')\n",
    "    plt.show()"
   ]
  },
  {
   "cell_type": "code",
   "execution_count": 73,
   "metadata": {},
   "outputs": [],
   "source": [
    "def show_area(ax, d_hat, stderr, sig_level, area_type='power'):\n",
    "    \"\"\"Fill between upper significance boundary and distribution for\n",
    "    alternative hypothesis\n",
    "    \"\"\"\n",
    "    left, right = confidence_interval(sample_mean=0, sample_std=stderr,\n",
    "                                      sig_level=sig_level)\n",
    "    x = np.linspace(-12 * stderr, 12 * stderr, 1000)\n",
    "    null = ab_dist(stderr, 'control')\n",
    "    alternative = ab_dist(stderr, d_hat, 'test')\n",
    "\n",
    "    # if area_type is power\n",
    "    # Fill between upper significance boundary and distribution for alternative\n",
    "    # hypothesis\n",
    "    if area_type == 'power':\n",
    "        ax.fill_between(x, 0, alternative.pdf(x), color='green', alpha='0.25',\n",
    "                        where=(x > right))\n",
    "        ax.text(-3 * stderr, null.pdf(0),\n",
    "                'power = {0:.3f}'.format(1 - alternative.cdf(right)),\n",
    "                fontsize=12, ha='right', color='k')\n",
    "\n",
    "    # if area_type is alpha\n",
    "    # Fill between upper significance boundary and distribution for null\n",
    "    # hypothesis\n",
    "    if area_type == 'alpha':\n",
    "        ax.fill_between(x, 0, null.pdf(x), color='green', alpha='0.25',\n",
    "                        where=(x > right))\n",
    "        ax.text(-3 * stderr, null.pdf(0),\n",
    "                'alpha = {0:.3f}'.format(1 - null.cdf(right)),\n",
    "                fontsize=12, ha='right', color='k')\n",
    "\n",
    "    # if area_type is beta\n",
    "    # Fill between distribution for alternative hypothesis and upper\n",
    "    # significance boundary\n",
    "    if area_type == 'beta':\n",
    "        ax.fill_between(x, 0, alternative.pdf(x), color='green', alpha='0.25',\n",
    "                        where=(x < right))\n",
    "        ax.text(-3 * stderr, null.pdf(0),\n",
    "                'beta = {0:.3f}'.format(alternative.cdf(right)),\n",
    "                fontsize=12, ha='right', color='k')"
   ]
  },
  {
   "cell_type": "code",
   "execution_count": 74,
   "metadata": {},
   "outputs": [],
   "source": [
    "def zplot(area=0.95, two_tailed=True, align_right=False):\n",
    "    \"\"\"Plots a z distribution with common annotations\n",
    "    Example:\n",
    "        zplot(area=0.95)\n",
    "        zplot(area=0.80, two_tailed=False, align_right=True)\n",
    "    Parameters:\n",
    "        area (float): The area under the standard normal distribution curve.\n",
    "        align (str): The area under the curve can be aligned to the center\n",
    "            (default) or to the left.\n",
    "    Returns:\n",
    "        None: A plot of the normal distribution with annotations showing the\n",
    "        area under the curve and the boundaries of the area.\n",
    "    \"\"\"\n",
    "    # create plot object\n",
    "    fig = plt.figure(figsize=(12, 6))\n",
    "    ax = fig.subplots()\n",
    "    # create normal distribution\n",
    "    norm = scs.norm()\n",
    "    # create data points to plot\n",
    "    x = np.linspace(-5, 5, 1000)\n",
    "    y = norm.pdf(x)\n",
    "\n",
    "    ax.plot(x, y)\n",
    "\n",
    "    # code to fill areas\n",
    "    # for two-tailed tests\n",
    "    if two_tailed:\n",
    "        left = norm.ppf(0.5 - area / 2)\n",
    "        right = norm.ppf(0.5 + area / 2)\n",
    "        ax.vlines(right, 0, norm.pdf(right), color='grey', linestyle='--')\n",
    "        ax.vlines(left, 0, norm.pdf(left), color='grey', linestyle='--')\n",
    "\n",
    "        ax.fill_between(x, 0, y, color='grey', alpha='0.25',\n",
    "                        where=(x > left) & (x < right))\n",
    "        plt.xlabel('z')\n",
    "        plt.ylabel('PDF')\n",
    "        plt.text(left, norm.pdf(left), \"z = {0:.3f}\".format(left), fontsize=12,\n",
    "                 rotation=90, va=\"bottom\", ha=\"right\")\n",
    "        plt.text(right, norm.pdf(right), \"z = {0:.3f}\".format(right),\n",
    "                 fontsize=12, rotation=90, va=\"bottom\", ha=\"left\")\n",
    "    # for one-tailed tests\n",
    "    else:\n",
    "        # align the area to the right\n",
    "        if align_right:\n",
    "            left = norm.ppf(1-area)\n",
    "            ax.vlines(left, 0, norm.pdf(left), color='grey', linestyle='--')\n",
    "            ax.fill_between(x, 0, y, color='grey', alpha='0.25',\n",
    "                            where=x > left)\n",
    "            plt.text(left, norm.pdf(left), \"z = {0:.3f}\".format(left),\n",
    "                     fontsize=12, rotation=90, va=\"bottom\", ha=\"right\")\n",
    "        # align the area to the left\n",
    "        else:\n",
    "            right = norm.ppf(area)\n",
    "            ax.vlines(right, 0, norm.pdf(right), color='grey', linestyle='--')\n",
    "            ax.fill_between(x, 0, y, color='grey', alpha='0.25',\n",
    "                            where=x < right)\n",
    "            plt.text(right, norm.pdf(right), \"z = {0:.3f}\".format(right),\n",
    "                     fontsize=12, rotation=90, va=\"bottom\", ha=\"left\")\n",
    "\n",
    "    # annotate the shaded area\n",
    "    plt.text(0, 0.1, \"shaded area = {0:.3f}\".format(area), fontsize=12,\n",
    "             ha='center')\n",
    "    # axis labels\n",
    "    plt.xlabel('z')\n",
    "    plt.ylabel('PDF')\n",
    "\n",
    "    plt.show()"
   ]
  },
  {
   "cell_type": "code",
   "execution_count": 75,
   "metadata": {},
   "outputs": [],
   "source": [
    "def abplot_CI_bars(N, X, sig_level=0.05, dmin=None):\n",
    "    \"\"\"Returns a confidence interval bar plot for multivariate tests\n",
    "    Parameters:\n",
    "        N (list or tuple): sample size for all groups\n",
    "        X (list or tuple): number of conversions for each variant\n",
    "        sig_level (float): significance level\n",
    "        dmin (float): minimum desired lift; a red and green dashed lines are\n",
    "            shown on the plot if dmin is provided.\n",
    "    Returns:\n",
    "        None: A plot of the confidence interval bars is returned inline.\n",
    "    \"\"\"\n",
    "\n",
    "    # initiate plot object\n",
    "    fig, ax = plt.subplots(figsize=(12, 3))\n",
    "\n",
    "    # get control group values\n",
    "    N_A = N[0]\n",
    "    X_A = X[0]\n",
    "\n",
    "    # initiate containers for standard error and differences\n",
    "    SE = []\n",
    "    d = []\n",
    "    # iterate through X and N and calculate d and SE\n",
    "    for idx in range(1, len(N)):\n",
    "        X_B = X[idx]\n",
    "        N_B = N[idx]\n",
    "        d.append(X_B / N_B - X_A / N_A)\n",
    "        SE.append(pooled_SE(N_A, N_B, X_A, X_B))\n",
    "\n",
    "    # convert to numpy arrays\n",
    "    SE = np.array(SE)\n",
    "    d = np.array(d)\n",
    "\n",
    "    y = np.arange(len(N)-1)\n",
    "\n",
    "    # get z value\n",
    "    z = z_val(sig_level)\n",
    "    # confidence interval values\n",
    "    ci = SE * z\n",
    "\n",
    "    # bar to represent the confidence interval\n",
    "    ax.hlines(y, d-ci, d+ci, color='blue', alpha=0.35, lw=10, zorder=1)\n",
    "    # marker for the mean\n",
    "    ax.scatter(d, y, s=300, marker='|', lw=10, color='magenta', zorder=2)\n",
    "\n",
    "    # vertical line to represent 0\n",
    "    ax.axvline(0, c='grey', linestyle='-')\n",
    "\n",
    "    # plot veritcal dashed lines if dmin is provided\n",
    "    if dmin is not None:\n",
    "        ax.axvline(-dmin, c='red', linestyle='--', alpha=0.75)\n",
    "        ax.axvline(dmin, c='green', linestyle='--', alpha=0.75)\n",
    "\n",
    "    # invert y axis to show variant 1 at the top\n",
    "    ax.invert_yaxis()\n",
    "    # label variants on y axis\n",
    "    labels = ['variant{}'.format(idx+1) for idx in range(len(N)-1)]\n",
    "    plt.yticks(np.arange(len(N)-1), labels)"
   ]
  },
  {
   "cell_type": "code",
   "execution_count": 76,
   "metadata": {},
   "outputs": [],
   "source": [
    "def funnel_CI_plot(A, B, sig_level=0.05):\n",
    "    \"\"\"Returns a confidence interval bar plot for multivariate tests\n",
    "    Parameters:\n",
    "        A (list of tuples): (sample size, conversions) for control group funnel\n",
    "        B (list of tuples): (sample size, conversions) for test group funnel\n",
    "        sig_level (float): significance level\n",
    "    Returns:\n",
    "        None: A plot of the confidence interval bars is returned inline.\n",
    "    \"\"\"\n",
    "\n",
    "    # initiate plot object\n",
    "    fig, ax = plt.subplots(figsize=(12, 3))\n",
    "\n",
    "    # initiate containers for standard error and differences\n",
    "    SE = []\n",
    "    d = []\n",
    "    # iterate through X and N and calculate d and SE\n",
    "    for idx in range(len(A)):\n",
    "        X_A = A[idx][1]\n",
    "        N_A = A[idx][0]\n",
    "        X_B = B[idx][1]\n",
    "        N_B = B[idx][0]\n",
    "        d.append(X_B / N_B - X_A / N_A)\n",
    "        SE.append(pooled_SE(N_A, N_B, X_A, X_B))\n",
    "\n",
    "    # convert to numpy arrays\n",
    "    SE = np.array(SE)\n",
    "    d = np.array(d)\n",
    "    print(d)\n",
    "\n",
    "    y = np.arange(len(A))\n",
    "\n",
    "    # get z value\n",
    "    z = z_val(sig_level)\n",
    "    # confidence interval values\n",
    "    ci = SE * z\n",
    "\n",
    "    # bar to represent the confidence interval\n",
    "    ax.hlines(y, d-ci, d+ci, color='blue', alpha=0.35, lw=10, zorder=1)\n",
    "    # marker for the mean\n",
    "    ax.scatter(d, y, s=300, marker='|', lw=10, color='magenta', zorder=2)\n",
    "\n",
    "    # vertical line to represent 0\n",
    "    ax.axvline(0, c='grey', linestyle='-')\n",
    "\n",
    "    # invert y axis to show variant 1 at the top\n",
    "    ax.invert_yaxis()\n",
    "    # label variants on y axis\n",
    "    labels = ['metric{}'.format(idx+1) for idx in range(len(A))]\n",
    "    plt.yticks(np.arange(len(A)), labels)"
   ]
  },
  {
   "cell_type": "code",
   "execution_count": 78,
   "metadata": {},
   "outputs": [],
   "source": [
    "# A is control; B is test\n",
    "N_A = 1000 # users allocated\n",
    "N_B = 1000 # users allocated"
   ]
  },
  {
   "cell_type": "code",
   "execution_count": 82,
   "metadata": {},
   "outputs": [
    {
     "data": {
      "image/png": "[encoded data removed]",
      "text/plain": [
       "<Figure size 864x432 with 1 Axes>"
      ]
     },
     "metadata": {
      "needs_background": "light"
     },
     "output_type": "display_data"
    }
   ],
   "source": [
    "# define the parameters for abplot()\n",
    "# use the actual values from the experiment for bcr and d_hat\n",
    "# p_A is the conversion rate of the control group\n",
    "# p_B is the conversion rate of the test group\n",
    "n = N_A + N_B\n",
    "bcr = A_cr\n",
    "d_hat = B_cr - A_cr\n",
    "abplot(N_A, N_B, bcr, d_hat)"
   ]
  },
  {
   "cell_type": "code",
   "execution_count": 83,
   "metadata": {},
   "outputs": [],
   "source": [
    "import matplotlib.pyplot as plt"
   ]
  },
  {
   "cell_type": "markdown",
   "metadata": {},
   "source": [
    "Visualmente, el gráfico de la hipótesis nula y alternativa es muy similar a los otros gráficos anteriores. \n",
    "\n",
    "Afortunadamente, ambas curvas tienen una forma idéntica, por lo que sólo podemos comparar la distancia entre las medias de las dos distribuciones. Podemos ver que la curva de la hipótesis alternativa sugiere que el grupo de prueba tiene una tasa de conversión más alta que el grupo de control. \n",
    "\n",
    "Este gráfico también puede utilizarse para determinar directamente la potencia estadística."
   ]
  },
  {
   "cell_type": "markdown",
   "metadata": {},
   "source": [
    "### 4. Statistical Power and Significance Level"
   ]
  },
  {
   "cell_type": "markdown",
   "metadata": {},
   "source": [
    "Creo que es más fácil definir la potencia estadística y el nivel de significación mostrando primero cómo se representan en el gráfico de la hipótesis nula y alternativa. Podemos devolver una visualización de la potencia estadística añadiendo el parámetro show_power=True."
   ]
  },
  {
   "cell_type": "code",
   "execution_count": 87,
   "metadata": {},
   "outputs": [
    {
     "ename": "TypeError",
     "evalue": "alpha must be numeric or None, not a string",
     "output_type": "error",
     "traceback": [
      "\u001b[1;31m---------------------------------------------------------------------------\u001b[0m",
      "\u001b[1;31mTypeError\u001b[0m                                 Traceback (most recent call last)",
      "\u001b[1;32m~\\AppData\\Local\\Temp/ipykernel_9712/3736787453.py\u001b[0m in \u001b[0;36m<module>\u001b[1;34m\u001b[0m\n\u001b[1;32m----> 1\u001b[1;33m \u001b[0mabplot\u001b[0m\u001b[1;33m(\u001b[0m\u001b[0mN_A\u001b[0m\u001b[1;33m,\u001b[0m \u001b[0mN_B\u001b[0m\u001b[1;33m,\u001b[0m \u001b[0mbcr\u001b[0m\u001b[1;33m,\u001b[0m \u001b[0md_hat\u001b[0m\u001b[1;33m,\u001b[0m \u001b[0mshow_power\u001b[0m\u001b[1;33m=\u001b[0m\u001b[1;32mTrue\u001b[0m\u001b[1;33m)\u001b[0m\u001b[1;33m\u001b[0m\u001b[1;33m\u001b[0m\u001b[0m\n\u001b[0m",
      "\u001b[1;32m~\\AppData\\Local\\Temp/ipykernel_9712/2892762947.py\u001b[0m in \u001b[0;36mabplot\u001b[1;34m(N_A, N_B, bcr, d_hat, sig_level, show_power, show_alpha, show_beta, show_p_value, show_legend)\u001b[0m\n\u001b[0;32m     33\u001b[0m     \u001b[1;31m# shade areas according to user input\u001b[0m\u001b[1;33m\u001b[0m\u001b[1;33m\u001b[0m\u001b[0m\n\u001b[0;32m     34\u001b[0m     \u001b[1;32mif\u001b[0m \u001b[0mshow_power\u001b[0m\u001b[1;33m:\u001b[0m\u001b[1;33m\u001b[0m\u001b[1;33m\u001b[0m\u001b[0m\n\u001b[1;32m---> 35\u001b[1;33m         \u001b[0mshow_area\u001b[0m\u001b[1;33m(\u001b[0m\u001b[0max\u001b[0m\u001b[1;33m,\u001b[0m \u001b[0md_hat\u001b[0m\u001b[1;33m,\u001b[0m \u001b[0mstderr\u001b[0m\u001b[1;33m,\u001b[0m \u001b[0msig_level\u001b[0m\u001b[1;33m,\u001b[0m \u001b[0marea_type\u001b[0m\u001b[1;33m=\u001b[0m\u001b[1;34m'power'\u001b[0m\u001b[1;33m)\u001b[0m\u001b[1;33m\u001b[0m\u001b[1;33m\u001b[0m\u001b[0m\n\u001b[0m\u001b[0;32m     36\u001b[0m     \u001b[1;32mif\u001b[0m \u001b[0mshow_alpha\u001b[0m\u001b[1;33m:\u001b[0m\u001b[1;33m\u001b[0m\u001b[1;33m\u001b[0m\u001b[0m\n\u001b[0;32m     37\u001b[0m         \u001b[0mshow_area\u001b[0m\u001b[1;33m(\u001b[0m\u001b[0max\u001b[0m\u001b[1;33m,\u001b[0m \u001b[0md_hat\u001b[0m\u001b[1;33m,\u001b[0m \u001b[0mstderr\u001b[0m\u001b[1;33m,\u001b[0m \u001b[0msig_level\u001b[0m\u001b[1;33m,\u001b[0m \u001b[0marea_type\u001b[0m\u001b[1;33m=\u001b[0m\u001b[1;34m'alpha'\u001b[0m\u001b[1;33m)\u001b[0m\u001b[1;33m\u001b[0m\u001b[1;33m\u001b[0m\u001b[0m\n",
      "\u001b[1;32m~\\AppData\\Local\\Temp/ipykernel_9712/1722189625.py\u001b[0m in \u001b[0;36mshow_area\u001b[1;34m(ax, d_hat, stderr, sig_level, area_type)\u001b[0m\n\u001b[0;32m     13\u001b[0m     \u001b[1;31m# hypothesis\u001b[0m\u001b[1;33m\u001b[0m\u001b[1;33m\u001b[0m\u001b[0m\n\u001b[0;32m     14\u001b[0m     \u001b[1;32mif\u001b[0m \u001b[0marea_type\u001b[0m \u001b[1;33m==\u001b[0m \u001b[1;34m'power'\u001b[0m\u001b[1;33m:\u001b[0m\u001b[1;33m\u001b[0m\u001b[1;33m\u001b[0m\u001b[0m\n\u001b[1;32m---> 15\u001b[1;33m         ax.fill_between(x, 0, alternative.pdf(x), color='green', alpha='0.25',\n\u001b[0m\u001b[0;32m     16\u001b[0m                         where=(x > right))\n\u001b[0;32m     17\u001b[0m         ax.text(-3 * stderr, null.pdf(0),\n",
      "\u001b[1;32mc:\\ProgramData\\Anaconda3\\lib\\site-packages\\matplotlib\\__init__.py\u001b[0m in \u001b[0;36minner\u001b[1;34m(ax, data, *args, **kwargs)\u001b[0m\n\u001b[0;32m   1359\u001b[0m     \u001b[1;32mdef\u001b[0m \u001b[0minner\u001b[0m\u001b[1;33m(\u001b[0m\u001b[0max\u001b[0m\u001b[1;33m,\u001b[0m \u001b[1;33m*\u001b[0m\u001b[0margs\u001b[0m\u001b[1;33m,\u001b[0m \u001b[0mdata\u001b[0m\u001b[1;33m=\u001b[0m\u001b[1;32mNone\u001b[0m\u001b[1;33m,\u001b[0m \u001b[1;33m**\u001b[0m\u001b[0mkwargs\u001b[0m\u001b[1;33m)\u001b[0m\u001b[1;33m:\u001b[0m\u001b[1;33m\u001b[0m\u001b[1;33m\u001b[0m\u001b[0m\n\u001b[0;32m   1360\u001b[0m         \u001b[1;32mif\u001b[0m \u001b[0mdata\u001b[0m \u001b[1;32mis\u001b[0m \u001b[1;32mNone\u001b[0m\u001b[1;33m:\u001b[0m\u001b[1;33m\u001b[0m\u001b[1;33m\u001b[0m\u001b[0m\n\u001b[1;32m-> 1361\u001b[1;33m             \u001b[1;32mreturn\u001b[0m \u001b[0mfunc\u001b[0m\u001b[1;33m(\u001b[0m\u001b[0max\u001b[0m\u001b[1;33m,\u001b[0m \u001b[1;33m*\u001b[0m\u001b[0mmap\u001b[0m\u001b[1;33m(\u001b[0m\u001b[0msanitize_sequence\u001b[0m\u001b[1;33m,\u001b[0m \u001b[0margs\u001b[0m\u001b[1;33m)\u001b[0m\u001b[1;33m,\u001b[0m \u001b[1;33m**\u001b[0m\u001b[0mkwargs\u001b[0m\u001b[1;33m)\u001b[0m\u001b[1;33m\u001b[0m\u001b[1;33m\u001b[0m\u001b[0m\n\u001b[0m\u001b[0;32m   1362\u001b[0m \u001b[1;33m\u001b[0m\u001b[0m\n\u001b[0;32m   1363\u001b[0m         \u001b[0mbound\u001b[0m \u001b[1;33m=\u001b[0m \u001b[0mnew_sig\u001b[0m\u001b[1;33m.\u001b[0m\u001b[0mbind\u001b[0m\u001b[1;33m(\u001b[0m\u001b[0max\u001b[0m\u001b[1;33m,\u001b[0m \u001b[1;33m*\u001b[0m\u001b[0margs\u001b[0m\u001b[1;33m,\u001b[0m \u001b[1;33m**\u001b[0m\u001b[0mkwargs\u001b[0m\u001b[1;33m)\u001b[0m\u001b[1;33m\u001b[0m\u001b[1;33m\u001b[0m\u001b[0m\n",
      "\u001b[1;32mc:\\ProgramData\\Anaconda3\\lib\\site-packages\\matplotlib\\axes\\_axes.py\u001b[0m in \u001b[0;36mfill_between\u001b[1;34m(self, x, y1, y2, where, interpolate, step, **kwargs)\u001b[0m\n\u001b[0;32m   5384\u001b[0m     def fill_between(self, x, y1, y2=0, where=None, interpolate=False,\n\u001b[0;32m   5385\u001b[0m                      step=None, **kwargs):\n\u001b[1;32m-> 5386\u001b[1;33m         return self._fill_between_x_or_y(\n\u001b[0m\u001b[0;32m   5387\u001b[0m             \u001b[1;34m\"x\"\u001b[0m\u001b[1;33m,\u001b[0m \u001b[0mx\u001b[0m\u001b[1;33m,\u001b[0m \u001b[0my1\u001b[0m\u001b[1;33m,\u001b[0m \u001b[0my2\u001b[0m\u001b[1;33m,\u001b[0m\u001b[1;33m\u001b[0m\u001b[1;33m\u001b[0m\u001b[0m\n\u001b[0;32m   5388\u001b[0m             where=where, interpolate=interpolate, step=step, **kwargs)\n",
      "\u001b[1;32mc:\\ProgramData\\Anaconda3\\lib\\site-packages\\matplotlib\\axes\\_axes.py\u001b[0m in \u001b[0;36m_fill_between_x_or_y\u001b[1;34m(self, ind_dir, ind, dep1, dep2, where, interpolate, step, **kwargs)\u001b[0m\n\u001b[0;32m   5370\u001b[0m             \u001b[0mpolys\u001b[0m\u001b[1;33m.\u001b[0m\u001b[0mappend\u001b[0m\u001b[1;33m(\u001b[0m\u001b[0mpts\u001b[0m\u001b[1;33m)\u001b[0m\u001b[1;33m\u001b[0m\u001b[1;33m\u001b[0m\u001b[0m\n\u001b[0;32m   5371\u001b[0m \u001b[1;33m\u001b[0m\u001b[0m\n\u001b[1;32m-> 5372\u001b[1;33m         \u001b[0mcollection\u001b[0m \u001b[1;33m=\u001b[0m \u001b[0mmcoll\u001b[0m\u001b[1;33m.\u001b[0m\u001b[0mPolyCollection\u001b[0m\u001b[1;33m(\u001b[0m\u001b[0mpolys\u001b[0m\u001b[1;33m,\u001b[0m \u001b[1;33m**\u001b[0m\u001b[0mkwargs\u001b[0m\u001b[1;33m)\u001b[0m\u001b[1;33m\u001b[0m\u001b[1;33m\u001b[0m\u001b[0m\n\u001b[0m\u001b[0;32m   5373\u001b[0m \u001b[1;33m\u001b[0m\u001b[0m\n\u001b[0;32m   5374\u001b[0m         \u001b[1;31m# now update the datalim and autoscale\u001b[0m\u001b[1;33m\u001b[0m\u001b[1;33m\u001b[0m\u001b[0m\n",
      "\u001b[1;32mc:\\ProgramData\\Anaconda3\\lib\\site-packages\\matplotlib\\collections.py\u001b[0m in \u001b[0;36m__init__\u001b[1;34m(self, verts, sizes, closed, **kwargs)\u001b[0m\n\u001b[0;32m   1204\u001b[0m             \u001b[0mForwarded\u001b[0m \u001b[0mto\u001b[0m\u001b[0;31m \u001b[0m\u001b[0;31m`\u001b[0m\u001b[1;33m.\u001b[0m\u001b[0mCollection\u001b[0m\u001b[0;31m`\u001b[0m\u001b[1;33m.\u001b[0m\u001b[1;33m\u001b[0m\u001b[1;33m\u001b[0m\u001b[0m\n\u001b[0;32m   1205\u001b[0m         \"\"\"\n\u001b[1;32m-> 1206\u001b[1;33m         \u001b[0msuper\u001b[0m\u001b[1;33m(\u001b[0m\u001b[1;33m)\u001b[0m\u001b[1;33m.\u001b[0m\u001b[0m__init__\u001b[0m\u001b[1;33m(\u001b[0m\u001b[1;33m**\u001b[0m\u001b[0mkwargs\u001b[0m\u001b[1;33m)\u001b[0m\u001b[1;33m\u001b[0m\u001b[1;33m\u001b[0m\u001b[0m\n\u001b[0m\u001b[0;32m   1207\u001b[0m         \u001b[0mself\u001b[0m\u001b[1;33m.\u001b[0m\u001b[0mset_sizes\u001b[0m\u001b[1;33m(\u001b[0m\u001b[0msizes\u001b[0m\u001b[1;33m)\u001b[0m\u001b[1;33m\u001b[0m\u001b[1;33m\u001b[0m\u001b[0m\n\u001b[0;32m   1208\u001b[0m         \u001b[0mself\u001b[0m\u001b[1;33m.\u001b[0m\u001b[0mset_verts\u001b[0m\u001b[1;33m(\u001b[0m\u001b[0mverts\u001b[0m\u001b[1;33m,\u001b[0m \u001b[0mclosed\u001b[0m\u001b[1;33m)\u001b[0m\u001b[1;33m\u001b[0m\u001b[1;33m\u001b[0m\u001b[0m\n",
      "\u001b[1;32mc:\\ProgramData\\Anaconda3\\lib\\site-packages\\matplotlib\\_api\\deprecation.py\u001b[0m in \u001b[0;36mwrapper\u001b[1;34m(*inner_args, **inner_kwargs)\u001b[0m\n\u001b[0;32m    429\u001b[0m                          \u001b[1;32melse\u001b[0m \u001b[0mdeprecation_addendum\u001b[0m\u001b[1;33m,\u001b[0m\u001b[1;33m\u001b[0m\u001b[1;33m\u001b[0m\u001b[0m\n\u001b[0;32m    430\u001b[0m                 **kwargs)\n\u001b[1;32m--> 431\u001b[1;33m         \u001b[1;32mreturn\u001b[0m \u001b[0mfunc\u001b[0m\u001b[1;33m(\u001b[0m\u001b[1;33m*\u001b[0m\u001b[0minner_args\u001b[0m\u001b[1;33m,\u001b[0m \u001b[1;33m**\u001b[0m\u001b[0minner_kwargs\u001b[0m\u001b[1;33m)\u001b[0m\u001b[1;33m\u001b[0m\u001b[1;33m\u001b[0m\u001b[0m\n\u001b[0m\u001b[0;32m    432\u001b[0m \u001b[1;33m\u001b[0m\u001b[0m\n\u001b[0;32m    433\u001b[0m     \u001b[1;32mreturn\u001b[0m \u001b[0mwrapper\u001b[0m\u001b[1;33m\u001b[0m\u001b[1;33m\u001b[0m\u001b[0m\n",
      "\u001b[1;32mc:\\ProgramData\\Anaconda3\\lib\\site-packages\\matplotlib\\collections.py\u001b[0m in \u001b[0;36m__init__\u001b[1;34m(self, edgecolors, facecolors, linewidths, linestyles, capstyle, joinstyle, antialiaseds, offsets, transOffset, norm, cmap, pickradius, hatch, urls, offset_position, zorder, **kwargs)\u001b[0m\n\u001b[0;32m    215\u001b[0m \u001b[1;33m\u001b[0m\u001b[0m\n\u001b[0;32m    216\u001b[0m         \u001b[0mself\u001b[0m\u001b[1;33m.\u001b[0m\u001b[0m_path_effects\u001b[0m \u001b[1;33m=\u001b[0m \u001b[1;32mNone\u001b[0m\u001b[1;33m\u001b[0m\u001b[1;33m\u001b[0m\u001b[0m\n\u001b[1;32m--> 217\u001b[1;33m         \u001b[0mself\u001b[0m\u001b[1;33m.\u001b[0m\u001b[0mupdate\u001b[0m\u001b[1;33m(\u001b[0m\u001b[0mkwargs\u001b[0m\u001b[1;33m)\u001b[0m\u001b[1;33m\u001b[0m\u001b[1;33m\u001b[0m\u001b[0m\n\u001b[0m\u001b[0;32m    218\u001b[0m         \u001b[0mself\u001b[0m\u001b[1;33m.\u001b[0m\u001b[0m_paths\u001b[0m \u001b[1;33m=\u001b[0m \u001b[1;32mNone\u001b[0m\u001b[1;33m\u001b[0m\u001b[1;33m\u001b[0m\u001b[0m\n\u001b[0;32m    219\u001b[0m \u001b[1;33m\u001b[0m\u001b[0m\n",
      "\u001b[1;32mc:\\ProgramData\\Anaconda3\\lib\\site-packages\\matplotlib\\artist.py\u001b[0m in \u001b[0;36mupdate\u001b[1;34m(self, props)\u001b[0m\n\u001b[0;32m   1062\u001b[0m                         raise AttributeError(f\"{type(self).__name__!r} object \"\n\u001b[0;32m   1063\u001b[0m                                              f\"has no property {k!r}\")\n\u001b[1;32m-> 1064\u001b[1;33m                     \u001b[0mret\u001b[0m\u001b[1;33m.\u001b[0m\u001b[0mappend\u001b[0m\u001b[1;33m(\u001b[0m\u001b[0mfunc\u001b[0m\u001b[1;33m(\u001b[0m\u001b[0mv\u001b[0m\u001b[1;33m)\u001b[0m\u001b[1;33m)\u001b[0m\u001b[1;33m\u001b[0m\u001b[1;33m\u001b[0m\u001b[0m\n\u001b[0m\u001b[0;32m   1065\u001b[0m         \u001b[1;32mif\u001b[0m \u001b[0mret\u001b[0m\u001b[1;33m:\u001b[0m\u001b[1;33m\u001b[0m\u001b[1;33m\u001b[0m\u001b[0m\n\u001b[0;32m   1066\u001b[0m             \u001b[0mself\u001b[0m\u001b[1;33m.\u001b[0m\u001b[0mpchanged\u001b[0m\u001b[1;33m(\u001b[0m\u001b[1;33m)\u001b[0m\u001b[1;33m\u001b[0m\u001b[1;33m\u001b[0m\u001b[0m\n",
      "\u001b[1;32mc:\\ProgramData\\Anaconda3\\lib\\site-packages\\matplotlib\\collections.py\u001b[0m in \u001b[0;36mset_alpha\u001b[1;34m(self, alpha)\u001b[0m\n\u001b[0;32m    851\u001b[0m             \u001b[0msupported\u001b[0m\u001b[1;33m.\u001b[0m\u001b[1;33m\u001b[0m\u001b[1;33m\u001b[0m\u001b[0m\n\u001b[0;32m    852\u001b[0m         \"\"\"\n\u001b[1;32m--> 853\u001b[1;33m         \u001b[0martist\u001b[0m\u001b[1;33m.\u001b[0m\u001b[0mArtist\u001b[0m\u001b[1;33m.\u001b[0m\u001b[0m_set_alpha_for_array\u001b[0m\u001b[1;33m(\u001b[0m\u001b[0mself\u001b[0m\u001b[1;33m,\u001b[0m \u001b[0malpha\u001b[0m\u001b[1;33m)\u001b[0m\u001b[1;33m\u001b[0m\u001b[1;33m\u001b[0m\u001b[0m\n\u001b[0m\u001b[0;32m    854\u001b[0m         \u001b[0mself\u001b[0m\u001b[1;33m.\u001b[0m\u001b[0m_update_dict\u001b[0m\u001b[1;33m[\u001b[0m\u001b[1;34m'array'\u001b[0m\u001b[1;33m]\u001b[0m \u001b[1;33m=\u001b[0m \u001b[1;32mTrue\u001b[0m\u001b[1;33m\u001b[0m\u001b[1;33m\u001b[0m\u001b[0m\n\u001b[0;32m    855\u001b[0m         \u001b[0mself\u001b[0m\u001b[1;33m.\u001b[0m\u001b[0m_set_facecolor\u001b[0m\u001b[1;33m(\u001b[0m\u001b[0mself\u001b[0m\u001b[1;33m.\u001b[0m\u001b[0m_original_facecolor\u001b[0m\u001b[1;33m)\u001b[0m\u001b[1;33m\u001b[0m\u001b[1;33m\u001b[0m\u001b[0m\n",
      "\u001b[1;32mc:\\ProgramData\\Anaconda3\\lib\\site-packages\\matplotlib\\artist.py\u001b[0m in \u001b[0;36m_set_alpha_for_array\u001b[1;34m(self, alpha)\u001b[0m\n\u001b[0;32m    979\u001b[0m         \"\"\"\n\u001b[0;32m    980\u001b[0m         \u001b[1;32mif\u001b[0m \u001b[0misinstance\u001b[0m\u001b[1;33m(\u001b[0m\u001b[0malpha\u001b[0m\u001b[1;33m,\u001b[0m \u001b[0mstr\u001b[0m\u001b[1;33m)\u001b[0m\u001b[1;33m:\u001b[0m\u001b[1;33m\u001b[0m\u001b[1;33m\u001b[0m\u001b[0m\n\u001b[1;32m--> 981\u001b[1;33m             \u001b[1;32mraise\u001b[0m \u001b[0mTypeError\u001b[0m\u001b[1;33m(\u001b[0m\u001b[1;34m\"alpha must be numeric or None, not a string\"\u001b[0m\u001b[1;33m)\u001b[0m\u001b[1;33m\u001b[0m\u001b[1;33m\u001b[0m\u001b[0m\n\u001b[0m\u001b[0;32m    982\u001b[0m         \u001b[1;32mif\u001b[0m \u001b[1;32mnot\u001b[0m \u001b[0mnp\u001b[0m\u001b[1;33m.\u001b[0m\u001b[0miterable\u001b[0m\u001b[1;33m(\u001b[0m\u001b[0malpha\u001b[0m\u001b[1;33m)\u001b[0m\u001b[1;33m:\u001b[0m\u001b[1;33m\u001b[0m\u001b[1;33m\u001b[0m\u001b[0m\n\u001b[0;32m    983\u001b[0m             \u001b[0mArtist\u001b[0m\u001b[1;33m.\u001b[0m\u001b[0mset_alpha\u001b[0m\u001b[1;33m(\u001b[0m\u001b[0mself\u001b[0m\u001b[1;33m,\u001b[0m \u001b[0malpha\u001b[0m\u001b[1;33m)\u001b[0m\u001b[1;33m\u001b[0m\u001b[1;33m\u001b[0m\u001b[0m\n",
      "\u001b[1;31mTypeError\u001b[0m: alpha must be numeric or None, not a string"
     ]
    },
    {
     "data": {
      "image/png": "[encoded data removed]",
      "text/plain": [
       "<Figure size 864x432 with 1 Axes>"
      ]
     },
     "metadata": {
      "needs_background": "light"
     },
     "output_type": "display_data"
    }
   ],
   "source": [
    "abplot(N_A, N_B, bcr, d_hat, show_power=True)"
   ]
  },
  {
   "cell_type": "markdown",
   "metadata": {},
   "source": [
    "El área sombreada en verde representa la potencia estadística, y el valor calculado para la potencia también se muestra en el gráfico. \n",
    "\n",
    "Las líneas grises discontinuas en el gráfico anterior representan el intervalo de confianza (95% para el gráfico anterior) para la hipótesis nula. La potencia estadística se calcula encontrando el área bajo la distribución de la hipótesis alternativa y fuera del intervalo de confianza de la hipótesis nula.\n",
    "\n",
    "Después de realizar nuestro experimento, obtenemos una tasa de conversión resultante para ambos grupos. Si calculamos la diferencia entre las tasas de conversión, obtenemos un resultado, la diferencia o el efecto del cambio de diseño. Nuestra tarea consiste en determinar de qué población procede este resultado, la hipótesis nula o la hipótesis alternativa.\n",
    "\n",
    "El área bajo la curva de la hipótesis alternativa es igual a 1. \n",
    "\n",
    "Si el diseño alternativo es realmente mejor, la potencia es la probabilidad de que aceptemos la hipótesis alternativa y rechacemos la hipótesis nula y es igual al área sombreada en verde (verdadero positivo).\n",
    " El área opuesta bajo la curva alternativa es la probabilidad de que aceptemos la hipótesis nula y rechacemos la hipótesis alternativa (falso negativo). Esto se denomina beta en las pruebas A/B o pruebas de hipótesis y se muestra a continuación."
   ]
  },
  {
   "cell_type": "code",
   "execution_count": null,
   "metadata": {},
   "outputs": [],
   "source": [
    "\n",
    "abplot(N_A, N_B, bcr, d_hat, show_beta=True)"
   ]
  }
 ],
 "metadata": {
  "kernelspec": {
   "display_name": "Python 3.9.7 ('base')",
   "language": "python",
   "name": "python3"
  },
  "language_info": {
   "codemirror_mode": {
    "name": "ipython",
    "version": 3
   },
   "file_extension": ".py",
   "mimetype": "text/x-python",
   "name": "python",
   "nbconvert_exporter": "python",
   "pygments_lexer": "ipython3",
   "version": "3.9.7"
  },
  "orig_nbformat": 4,
  "vscode": {
   "interpreter": {
    "hash": "ad2bdc8ecc057115af97d19610ffacc2b4e99fae6737bb82f5d7fb13d2f2c186"
   }
  }
 },
 "nbformat": 4,
 "nbformat_minor": 2
}
